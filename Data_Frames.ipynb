{
  "nbformat": 4,
  "nbformat_minor": 0,
  "metadata": {
    "colab": {
      "provenance": [],
      "authorship_tag": "ABX9TyMKy2aqSK0rFUxSzUCxYyRA",
      "include_colab_link": true
    },
    "kernelspec": {
      "name": "ir",
      "display_name": "R"
    },
    "language_info": {
      "name": "R"
    }
  },
  "cells": [
    {
      "cell_type": "markdown",
      "metadata": {
        "id": "view-in-github",
        "colab_type": "text"
      },
      "source": [
        "<a href=\"https://colab.research.google.com/github/Jesi1511/R_GUVI_Final_Project/blob/main/Data_Frames.ipynb\" target=\"_parent\"><img src=\"https://colab.research.google.com/assets/colab-badge.svg\" alt=\"Open In Colab\"/></a>"
      ]
    },
    {
      "cell_type": "markdown",
      "source": [
        "1. Create a data frame named df_students with the following columns: ID, Name, Age, and Grade. Populate it with data for 5 students. Perform the following operations:\n",
        "Add a new column Passed that indicates with TRUE or FALSE whether each student passed (assume a passing grade is at least 60).\n",
        "Select and print only the rows of students who are 18 years or older."
      ],
      "metadata": {
        "id": "apufYi9dayrm"
      }
    },
    {
      "cell_type": "code",
      "source": [
        "df_students <- data.frame(\n",
        "    ID = 1:5,\n",
        "    Name = c(\"Alice\", \"Bob\", \"Charlie\", \"David\", \"Emma\"),\n",
        "    Age = c(20,18,19,17,21),\n",
        "    Grade = c(70, 55, 80, 40, 90)\n",
        ")\n",
        "\n",
        "df_students$Passed <- df_students$Grade >= 60\n",
        "\n",
        "selected_students <- df_students[df_students$Age >=18, ]\n",
        "print(selected_students)\n"
      ],
      "metadata": {
        "colab": {
          "base_uri": "https://localhost:8080/"
        },
        "id": "g6MLJ7vya32t",
        "outputId": "8899eabb-0926-4bda-d2e0-2866360c4ecd"
      },
      "execution_count": 6,
      "outputs": [
        {
          "output_type": "stream",
          "name": "stdout",
          "text": [
            "  ID    Name Age Grade Passed\n",
            "1  1   Alice  20    70   TRUE\n",
            "2  2     Bob  18    55  FALSE\n",
            "3  3 Charlie  19    80   TRUE\n",
            "5  5    Emma  21    90   TRUE\n"
          ]
        }
      ]
    }
  ]
}