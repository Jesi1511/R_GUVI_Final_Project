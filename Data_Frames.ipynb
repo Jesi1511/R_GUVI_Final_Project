{
  "nbformat": 4,
  "nbformat_minor": 0,
  "metadata": {
    "colab": {
      "provenance": [],
      "authorship_tag": "ABX9TyOiHM5GGUjl2ZE/F5Em6+x1",
      "include_colab_link": true
    },
    "kernelspec": {
      "name": "ir",
      "display_name": "R"
    },
    "language_info": {
      "name": "R"
    }
  },
  "cells": [
    {
      "cell_type": "markdown",
      "metadata": {
        "id": "view-in-github",
        "colab_type": "text"
      },
      "source": [
        "<a href=\"https://colab.research.google.com/github/Jesi1511/R_GUVI_Final_Project/blob/main/Data_Frames.ipynb\" target=\"_parent\"><img src=\"https://colab.research.google.com/assets/colab-badge.svg\" alt=\"Open In Colab\"/></a>"
      ]
    },
    {
      "cell_type": "markdown",
      "source": [
        "1. Create a data frame named df_students with the following columns: ID, Name, Age, and Grade. Populate it with data for 5 students. Perform the following operations:\n",
        " 1. Add a new column Passed that indicates with TRUE or FALSE whether each student passed (assume a passing grade is at least 60).\n",
        " 2. Select and print only the rows of students who are 18 years or older."
      ],
      "metadata": {
        "id": "apufYi9dayrm"
      }
    },
    {
      "cell_type": "code",
      "source": [
        "df_students <- data.frame(\n",
        "    ID = 1:5,\n",
        "    Name = c(\"Alice\", \"Bob\", \"Charlie\", \"David\", \"Emma\"),\n",
        "    Age = c(20,18,19,17,21),\n",
        "    Grade = c(70, 55, 80, 40, 90)\n",
        ")\n",
        "\n",
        "df_students$Passed <- df_students$Grade >= 60\n",
        "\n",
        "selected_students <- df_students[df_students$Age >=18, ]\n",
        "print(selected_students)\n"
      ],
      "metadata": {
        "colab": {
          "base_uri": "https://localhost:8080/"
        },
        "id": "g6MLJ7vya32t",
        "outputId": "8899eabb-0926-4bda-d2e0-2866360c4ecd"
      },
      "execution_count": null,
      "outputs": [
        {
          "output_type": "stream",
          "name": "stdout",
          "text": [
            "  ID    Name Age Grade Passed\n",
            "1  1   Alice  20    70   TRUE\n",
            "2  2     Bob  18    55  FALSE\n",
            "3  3 Charlie  19    80   TRUE\n",
            "5  5    Emma  21    90   TRUE\n"
          ]
        }
      ]
    },
    {
      "cell_type": "markdown",
      "source": [
        "2. Suppose you have two data frames, df_A and df_B. df_A contains student IDs and names, while df_B contains student IDs and their corresponding courses. Write R code to merge these data frames so each row contains a student’s ID, name, and course.\n"
      ],
      "metadata": {
        "id": "DbFz5wDFeRIO"
      }
    },
    {
      "cell_type": "code",
      "source": [
        "df_A <- data.frame(\n",
        "  student_ID =c(1, 2, 3, 4, 5),\n",
        "  Name = c(\"Alice\", \"Bob\", \"Charlie\", \"David\", \"Emma\")\n",
        ")\n",
        "\n",
        "df_B <- data.frame(\n",
        "  student_ID =c(1, 2, 3, 4, 5),\n",
        "  Course = c(\"Math\", \"Science\", \"English\", \"History\", \"Art\")\n",
        ")\n",
        "merged_df <- merge(df_A, df_B, by =\"student_ID\")\n",
        "print(merged_df)"
      ],
      "metadata": {
        "colab": {
          "base_uri": "https://localhost:8080/"
        },
        "id": "4R6YhP3KedEw",
        "outputId": "ebfd53cd-3b8f-4e2d-a5ed-a46288a9a917"
      },
      "execution_count": null,
      "outputs": [
        {
          "output_type": "stream",
          "name": "stdout",
          "text": [
            "  student_ID    Name  Course\n",
            "1          1   Alice    Math\n",
            "2          2     Bob Science\n",
            "3          3 Charlie English\n",
            "4          4   David History\n",
            "5          5    Emma     Art\n"
          ]
        }
      ]
    },
    {
      "cell_type": "markdown",
      "source": [],
      "metadata": {
        "id": "g5FBXG1UFRRT"
      }
    },
    {
      "cell_type": "markdown",
      "source": [
        "3. Given a data frame df_sales with columns Date, ProductID, Quantity, and Price, write R code to calculate the total sales (Quantity * Price) for each product.\n",
        "\n",
        "   **Note: Generate your own data set.**"
      ],
      "metadata": {
        "id": "JKQysQV6YNGp"
      }
    },
    {
      "cell_type": "code",
      "source": [
        "set.seed(123)\n",
        "date <- sample(seq(as.Date(\"2024-01-1\"), as.Date(\"2024-04-10\"), by = \"day\"),100, replace = TRUE)\n",
        "product_id <- sample(1:10, 100, replace = TRUE)\n",
        "quantity <- sample(1:10, 100, replace = TRUE)\n",
        "price <- sample(1:10, 100, replace = TRUE)\n",
        "\n",
        "\n",
        "df_sales <- data.frame(\n",
        "  Date = date,\n",
        "  ProductID = product_id,\n",
        "  Quantity = quantity,\n",
        "  Price = price\n",
        ")\n",
        "\n",
        "\n",
        "total_sales <- aggregate(df_sales$Quantity * df_sales$Price, by = list(ProductID = df_sales$ProductID), FUN = sum)\n",
        "colnames(total_sales)[2] <- \"Totalsales\"\n",
        "\n",
        "#print(total_sales)\n",
        "# Merge total_sales with df_sales to include the date\n",
        "merged_df <- merge(df_sales, total_sales,  by = \"ProductID\")\n",
        "\n",
        "# Print the merged dataframe with date and total sales\n",
        "print(merged_df)\n",
        "\n"
      ],
      "metadata": {
        "colab": {
          "base_uri": "https://localhost:8080/"
        },
        "id": "HIAcly55YRWi",
        "outputId": "18c6385b-7667-4458-865a-21e708c3de6a"
      },
      "execution_count": 18,
      "outputs": [
        {
          "output_type": "stream",
          "name": "stdout",
          "text": [
            "    ProductID       Date Quantity Price Totalsales\n",
            "1           1 2024-03-31       10     4        176\n",
            "2           1 2024-01-31        7     4        176\n",
            "3           1 2024-03-21        6     8        176\n",
            "4           1 2024-02-03        6     8        176\n",
            "5           1 2024-03-12        7     1        176\n",
            "6           1 2024-01-21        1     5        176\n",
            "7           2 2024-01-25        7    10        240\n",
            "8           2 2024-04-10        9    10        240\n",
            "9           2 2024-01-07        8     5        240\n",
            "10          2 2024-01-16        2    10        240\n",
            "11          2 2024-01-25        2    10        240\n",
            "12          3 2024-04-01       10     9        234\n",
            "13          3 2024-04-02       10     7        234\n",
            "14          3 2024-03-04        1     5        234\n",
            "15          3 2024-01-09        2     2        234\n",
            "16          3 2024-02-19        9     1        234\n",
            "17          3 2024-02-22        7     6        234\n",
            "18          3 2024-04-06        7     2        234\n",
            "19          4 2024-03-29       10     1        269\n",
            "20          4 2024-01-07        1     4        269\n",
            "21          4 2024-03-09        9     4        269\n",
            "22          4 2024-03-09       10     6        269\n",
            "23          4 2024-01-13        8     8        269\n",
            "24          4 2024-04-05        5     3        269\n",
            "25          4 2024-03-11        3     6        269\n",
            "26          4 2024-02-10        1     2        269\n",
            "27          4 2024-03-31        4     1        269\n",
            "28          4 2024-03-26        6     8        269\n",
            "29          4 2024-01-25        2     4        269\n",
            "30          5 2024-01-14        2     8        283\n",
            "31          5 2024-01-14       10     3        283\n",
            "32          5 2024-02-08       10     7        283\n",
            "33          5 2024-02-21        7     8        283\n",
            "34          5 2024-03-07        4     9        283\n",
            "35          5 2024-03-21        5     3        283\n",
            "36          5 2024-04-04        3    10        283\n",
            "37          5 2024-01-15        3    10        283\n",
            "38          6 2024-02-26        1     4        302\n",
            "39          6 2024-03-19        9     6        302\n",
            "40          6 2024-02-12        9     3        302\n",
            "41          6 2024-03-31        1     4        302\n",
            "42          6 2024-04-02        5     7        302\n",
            "43          6 2024-04-03        2     9        302\n",
            "44          6 2024-02-09        6     9        302\n",
            "45          6 2024-03-23        6     7        302\n",
            "46          6 2024-03-03        5    10        302\n",
            "47          6 2024-01-23        1     5        302\n",
            "48          6 2024-02-07        1     9        302\n",
            "49          7 2024-01-31        7     2        520\n",
            "50          7 2024-02-22        9     3        520\n",
            "51          7 2024-02-01        9     5        520\n",
            "52          7 2024-03-30        8     2        520\n",
            "53          7 2024-01-26        5     2        520\n",
            "54          7 2024-03-29        9    10        520\n",
            "55          7 2024-02-11        9     3        520\n",
            "56          7 2024-02-07        2     3        520\n",
            "57          7 2024-01-30       10     9        520\n",
            "58          7 2024-01-07       10     8        520\n",
            "59          7 2024-03-14       10     1        520\n",
            "60          7 2024-02-01        7     9        520\n",
            "61          7 2024-02-05        2     1        520\n",
            "62          7 2024-01-31       10     4        520\n",
            "63          8 2024-01-09        1     8        410\n",
            "64          8 2024-02-19        3     3        410\n",
            "65          8 2024-03-22        5     7        410\n",
            "66          8 2024-04-02        7     1        410\n",
            "67          8 2024-03-09        3     7        410\n",
            "68          8 2024-02-11        8     2        410\n",
            "69          8 2024-04-08        5    10        410\n",
            "70          8 2024-03-16        4     6        410\n",
            "71          8 2024-02-04        2     4        410\n",
            "72          8 2024-03-12        9     6        410\n",
            "73          8 2024-02-29        1     6        410\n",
            "74          8 2024-01-27        9    10        410\n",
            "75          8 2024-03-16        5    10        410\n",
            "76          8 2024-02-03        4     8        410\n",
            "77          9 2024-02-10        4     1        142\n",
            "78          9 2024-02-16        2     5        142\n",
            "79          9 2024-03-12        1     8        142\n",
            "80          9 2024-02-29        5     2        142\n",
            "81          9 2024-01-13        7     4        142\n",
            "82          9 2024-01-30        5     6        142\n",
            "83          9 2024-04-05        1     5        142\n",
            "84          9 2024-01-06        5     7        142\n",
            "85          9 2024-01-22        3     4        142\n",
            "86         10 2024-02-12        9     6        423\n",
            "87         10 2024-04-08        3     1        423\n",
            "88         10 2024-01-14        5     8        423\n",
            "89         10 2024-03-18        1     2        423\n",
            "90         10 2024-01-25        9     6        423\n",
            "91         10 2024-03-19        2     8        423\n",
            "92         10 2024-03-26       10     3        423\n",
            "93         10 2024-02-20        7     3        423\n",
            "94         10 2024-01-27        5     2        423\n",
            "95         10 2024-03-27        4     3        423\n",
            "96         10 2024-03-07        9     3        423\n",
            "97         10 2024-03-30        6    10        423\n",
            "98         10 2024-01-04        3     6        423\n",
            "99         10 2024-01-12        9     4        423\n",
            "100        10 2024-01-09        4    10        423\n"
          ]
        }
      ]
    },
    {
      "cell_type": "markdown",
      "source": [],
      "metadata": {
        "id": "HWoecaLVZzkU"
      }
    },
    {
      "cell_type": "markdown",
      "source": [
        "4. For iris data set.\n",
        "  1. Calculate the average Sepal.Length for each Species.\n",
        "  2. Create a new column Sepal.Area which is the product of Sepal.3 Length and Sepal.Width.\n",
        "  3. Find the species with the highest average Sepal.Area"
      ],
      "metadata": {
        "id": "JFKRFn-agXlN"
      }
    },
    {
      "cell_type": "code",
      "source": [
        "data(iris)\n",
        "avg_sepal_length <- aggregate(Sepal.Length ~ Species, data = iris, FUN = mean)\n",
        "print(avg_sepal_length)\n",
        "\n",
        "iris$Sepal.Area <- iris$Petal.Length * iris$Petal.Width\n",
        "avg_sepal_area <- aggregate(Sepal.Area ~ Species, data = iris, FUN = mean)\n",
        "max_avg_sepal_area_species <- avg_sepal_area[which.max(avg_sepal_area$Sepal.Area), \"Species\"]\n",
        "print(avg_sepal_area)\n",
        "print(max_avg_sepal_area_species)"
      ],
      "metadata": {
        "id": "jD0x3yvRgpxQ",
        "outputId": "a5016c0d-6f21-4884-e6fc-fc7d8e09885e",
        "colab": {
          "base_uri": "https://localhost:8080/"
        }
      },
      "execution_count": 30,
      "outputs": [
        {
          "output_type": "stream",
          "name": "stdout",
          "text": [
            "     Species Sepal.Length\n",
            "1     setosa        5.006\n",
            "2 versicolor        5.936\n",
            "3  virginica        6.588\n",
            "     Species Sepal.Area\n",
            "1     setosa     0.3656\n",
            "2 versicolor     5.7204\n",
            "3  virginica    11.2962\n",
            "[1] virginica\n",
            "Levels: setosa versicolor virginica\n"
          ]
        }
      ]
    },
    {
      "cell_type": "markdown",
      "source": [
        "5. For airquality data set.\n",
        "    1. Calculate the average Ozone level for each month, excluding missing values.\n",
        "    2. Determine the month with the highest average Ozone level.\n",
        "    3. Create a new data frame with Month and Temp columns, excluding days with missing Ozone values.\n"
      ],
      "metadata": {
        "id": "5J8uGXWfk5kK"
      }
    },
    {
      "cell_type": "code",
      "source": [
        "# Load the airquality dataset\n",
        "data(airquality)\n",
        "# Convert Month to a factor with labels\n",
        "airquality$Month <- factor(airquality$Month, labels = c(\"May\", \"June\", \"July\", \"August\", \"September\"))\n",
        "\n",
        "# Calculate the average Ozone level for each month, excluding missing values\n",
        "avg_ozone <- tapply(airquality$Ozone, airquality$Month, FUN = function(x) mean(x, na.rm = TRUE))\n",
        "\n",
        "# Print the average Ozone level for each month\n",
        "print(\"Average Ozone level for each month:\")\n",
        "print(avg_ozone)\n",
        "\n",
        "# Determine the month with the highest average Ozone level\n",
        "max_avg_ozone_month <- names(which.max(avg_ozone))\n",
        "\n",
        "# Print the month with the highest average Ozone level\n",
        "print(sprintf(\"Month with the highest average Ozone level: %s\", max_avg_ozone_month))\n",
        "\n",
        "\n",
        "# Create a new data frame with Month and Temp columns, excluding days with missing Ozone values\n",
        "filtered_data <- airquality[complete.cases(airquality$Ozone), c(\"Month\", \"Temp\")]\n",
        "\n",
        "# Print the new data frame\n",
        "print(\"New data frame with Month and Temp columns, excluding days with missing Ozone values:\")\n",
        "print(filtered_data)\n"
      ],
      "metadata": {
        "id": "2bn2qxRylBDx",
        "outputId": "89ac7851-5ef7-4c4a-a753-6cc7ae6dd2fb",
        "colab": {
          "base_uri": "https://localhost:8080/"
        }
      },
      "execution_count": 38,
      "outputs": [
        {
          "output_type": "stream",
          "name": "stdout",
          "text": [
            "[1] \"Average Ozone level for each month:\"\n",
            "      May      June      July    August September \n",
            " 23.61538  29.44444  59.11538  59.96154  31.44828 \n",
            "[1] \"Month with the highest average Ozone level: August\"\n",
            "[1] \"New data frame with Month and Temp columns, excluding days with missing Ozone values:\"\n",
            "        Month Temp\n",
            "1         May   67\n",
            "2         May   72\n",
            "3         May   74\n",
            "4         May   62\n",
            "6         May   66\n",
            "7         May   65\n",
            "8         May   59\n",
            "9         May   61\n",
            "11        May   74\n",
            "12        May   69\n",
            "13        May   66\n",
            "14        May   68\n",
            "15        May   58\n",
            "16        May   64\n",
            "17        May   66\n",
            "18        May   57\n",
            "19        May   68\n",
            "20        May   62\n",
            "21        May   59\n",
            "22        May   73\n",
            "23        May   61\n",
            "24        May   61\n",
            "28        May   67\n",
            "29        May   81\n",
            "30        May   79\n",
            "31        May   76\n",
            "38       June   82\n",
            "40       June   90\n",
            "41       June   87\n",
            "44       June   82\n",
            "47       June   77\n",
            "48       June   72\n",
            "49       June   65\n",
            "50       June   73\n",
            "51       June   76\n",
            "62       July   84\n",
            "63       July   85\n",
            "64       July   81\n",
            "66       July   83\n",
            "67       July   83\n",
            "68       July   88\n",
            "69       July   92\n",
            "70       July   92\n",
            "71       July   89\n",
            "73       July   73\n",
            "74       July   81\n",
            "76       July   80\n",
            "77       July   81\n",
            "78       July   82\n",
            "79       July   84\n",
            "80       July   87\n",
            "81       July   85\n",
            "82       July   74\n",
            "85       July   86\n",
            "86       July   85\n",
            "87       July   82\n",
            "88       July   86\n",
            "89       July   88\n",
            "90       July   86\n",
            "91       July   83\n",
            "92       July   81\n",
            "93     August   81\n",
            "94     August   81\n",
            "95     August   82\n",
            "96     August   86\n",
            "97     August   85\n",
            "98     August   87\n",
            "99     August   89\n",
            "100    August   90\n",
            "101    August   90\n",
            "104    August   86\n",
            "105    August   82\n",
            "106    August   80\n",
            "108    August   77\n",
            "109    August   79\n",
            "110    August   76\n",
            "111    August   78\n",
            "112    August   78\n",
            "113    August   77\n",
            "114    August   72\n",
            "116    August   79\n",
            "117    August   81\n",
            "118    August   86\n",
            "120    August   97\n",
            "121    August   94\n",
            "122    August   96\n",
            "123    August   94\n",
            "124 September   91\n",
            "125 September   92\n",
            "126 September   93\n",
            "127 September   93\n",
            "128 September   87\n",
            "129 September   84\n",
            "130 September   80\n",
            "131 September   78\n",
            "132 September   75\n",
            "133 September   73\n",
            "134 September   81\n",
            "135 September   76\n",
            "136 September   77\n",
            "137 September   71\n",
            "138 September   71\n",
            "139 September   78\n",
            "140 September   67\n",
            "141 September   76\n",
            "142 September   68\n",
            "143 September   82\n",
            "144 September   64\n",
            "145 September   71\n",
            "146 September   81\n",
            "147 September   69\n",
            "148 September   63\n",
            "149 September   70\n",
            "151 September   75\n",
            "152 September   76\n",
            "153 September   68\n"
          ]
        }
      ]
    },
    {
      "cell_type": "code",
      "source": [],
      "metadata": {
        "id": "XB0Sat3MlF3w"
      },
      "execution_count": null,
      "outputs": []
    }
  ]
}