{
  "nbformat": 4,
  "nbformat_minor": 0,
  "metadata": {
    "colab": {
      "provenance": [],
      "authorship_tag": "ABX9TyOY0pdN2CNzXudAuFZN3E9j",
      "include_colab_link": true
    },
    "kernelspec": {
      "name": "ir",
      "display_name": "R"
    },
    "language_info": {
      "name": "R"
    }
  },
  "cells": [
    {
      "cell_type": "markdown",
      "metadata": {
        "id": "view-in-github",
        "colab_type": "text"
      },
      "source": [
        "<a href=\"https://colab.research.google.com/github/Jesi1511/R_GUVI_Final_Project/blob/main/DPLYR.ipynb\" target=\"_parent\"><img src=\"https://colab.research.google.com/assets/colab-badge.svg\" alt=\"Open In Colab\"/></a>"
      ]
    },
    {
      "cell_type": "markdown",
      "source": [
        "1. Return rows of cars that have an mpg value greater than 20 and 6 cylinders.\n"
      ],
      "metadata": {
        "id": "5KQizEiIp34I"
      }
    },
    {
      "cell_type": "code",
      "source": [
        "filtered_cars <- mtcars[mtcars$mpg > 20 & mtcars$cyl == 6, ]\n",
        "print(filtered_cars)"
      ],
      "metadata": {
        "colab": {
          "base_uri": "https://localhost:8080/"
        },
        "id": "d8jdvwDAp9jr",
        "outputId": "b8c8dedd-e40d-47e2-8655-18848e16a0f8"
      },
      "execution_count": 1,
      "outputs": [
        {
          "output_type": "stream",
          "name": "stdout",
          "text": [
            "                mpg cyl disp  hp drat    wt  qsec vs am gear carb\n",
            "Mazda RX4      21.0   6  160 110 3.90 2.620 16.46  0  1    4    4\n",
            "Mazda RX4 Wag  21.0   6  160 110 3.90 2.875 17.02  0  1    4    4\n",
            "Hornet 4 Drive 21.4   6  258 110 3.08 3.215 19.44  1  0    3    1\n"
          ]
        }
      ]
    },
    {
      "cell_type": "code",
      "source": [],
      "metadata": {
        "id": "zLTdQUjMqPSP"
      },
      "execution_count": null,
      "outputs": []
    }
  ]
}