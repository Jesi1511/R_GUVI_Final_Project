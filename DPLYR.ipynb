{
  "nbformat": 4,
  "nbformat_minor": 0,
  "metadata": {
    "colab": {
      "provenance": [],
      "authorship_tag": "ABX9TyOJsyApUcyATJww3Q5995p3",
      "include_colab_link": true
    },
    "kernelspec": {
      "name": "ir",
      "display_name": "R"
    },
    "language_info": {
      "name": "R"
    }
  },
  "cells": [
    {
      "cell_type": "markdown",
      "metadata": {
        "id": "view-in-github",
        "colab_type": "text"
      },
      "source": [
        "<a href=\"https://colab.research.google.com/github/Jesi1511/R_GUVI_Final_Project/blob/main/DPLYR.ipynb\" target=\"_parent\"><img src=\"https://colab.research.google.com/assets/colab-badge.svg\" alt=\"Open In Colab\"/></a>"
      ]
    },
    {
      "cell_type": "markdown",
      "source": [
        "1. Return rows of cars that have an mpg value greater than 20 and 6 cylinders.\n"
      ],
      "metadata": {
        "id": "5KQizEiIp34I"
      }
    },
    {
      "cell_type": "code",
      "source": [
        "filtered_cars <- mtcars[mtcars$mpg > 20 & mtcars$cyl == 6, ]\n",
        "print(filtered_cars)"
      ],
      "metadata": {
        "colab": {
          "base_uri": "https://localhost:8080/"
        },
        "id": "d8jdvwDAp9jr",
        "outputId": "b8c8dedd-e40d-47e2-8655-18848e16a0f8"
      },
      "execution_count": 1,
      "outputs": [
        {
          "output_type": "stream",
          "name": "stdout",
          "text": [
            "                mpg cyl disp  hp drat    wt  qsec vs am gear carb\n",
            "Mazda RX4      21.0   6  160 110 3.90 2.620 16.46  0  1    4    4\n",
            "Mazda RX4 Wag  21.0   6  160 110 3.90 2.875 17.02  0  1    4    4\n",
            "Hornet 4 Drive 21.4   6  258 110 3.08 3.215 19.44  1  0    3    1\n"
          ]
        }
      ]
    },
    {
      "cell_type": "markdown",
      "source": [
        "2. Reorder the Data Frame by cyl first, then by descending wt."
      ],
      "metadata": {
        "id": "kPOhiKGgrU0W"
      }
    },
    {
      "cell_type": "code",
      "source": [
        "library(dplyr)\n",
        "reordered_df <- arrange(mtcars, cyl, desc(wt))\n",
        "print(reordered_df)"
      ],
      "metadata": {
        "colab": {
          "base_uri": "https://localhost:8080/"
        },
        "id": "zLTdQUjMqPSP",
        "outputId": "8cb630ee-b1fb-4316-cf63-b0d43b1ad3c3"
      },
      "execution_count": 3,
      "outputs": [
        {
          "output_type": "stream",
          "name": "stdout",
          "text": [
            "                     mpg cyl  disp  hp drat    wt  qsec vs am gear carb\n",
            "Merc 240D           24.4   4 146.7  62 3.69 3.190 20.00  1  0    4    2\n",
            "Merc 230            22.8   4 140.8  95 3.92 3.150 22.90  1  0    4    2\n",
            "Volvo 142E          21.4   4 121.0 109 4.11 2.780 18.60  1  1    4    2\n",
            "Toyota Corona       21.5   4 120.1  97 3.70 2.465 20.01  1  0    3    1\n",
            "Datsun 710          22.8   4 108.0  93 3.85 2.320 18.61  1  1    4    1\n",
            "Fiat 128            32.4   4  78.7  66 4.08 2.200 19.47  1  1    4    1\n",
            "Porsche 914-2       26.0   4 120.3  91 4.43 2.140 16.70  0  1    5    2\n",
            "Fiat X1-9           27.3   4  79.0  66 4.08 1.935 18.90  1  1    4    1\n",
            "Toyota Corolla      33.9   4  71.1  65 4.22 1.835 19.90  1  1    4    1\n",
            "Honda Civic         30.4   4  75.7  52 4.93 1.615 18.52  1  1    4    2\n",
            "Lotus Europa        30.4   4  95.1 113 3.77 1.513 16.90  1  1    5    2\n",
            "Valiant             18.1   6 225.0 105 2.76 3.460 20.22  1  0    3    1\n",
            "Merc 280            19.2   6 167.6 123 3.92 3.440 18.30  1  0    4    4\n",
            "Merc 280C           17.8   6 167.6 123 3.92 3.440 18.90  1  0    4    4\n",
            "Hornet 4 Drive      21.4   6 258.0 110 3.08 3.215 19.44  1  0    3    1\n",
            "Mazda RX4 Wag       21.0   6 160.0 110 3.90 2.875 17.02  0  1    4    4\n",
            "Ferrari Dino        19.7   6 145.0 175 3.62 2.770 15.50  0  1    5    6\n",
            "Mazda RX4           21.0   6 160.0 110 3.90 2.620 16.46  0  1    4    4\n",
            "Lincoln Continental 10.4   8 460.0 215 3.00 5.424 17.82  0  0    3    4\n",
            "Chrysler Imperial   14.7   8 440.0 230 3.23 5.345 17.42  0  0    3    4\n",
            "Cadillac Fleetwood  10.4   8 472.0 205 2.93 5.250 17.98  0  0    3    4\n",
            "Merc 450SE          16.4   8 275.8 180 3.07 4.070 17.40  0  0    3    3\n",
            "Pontiac Firebird    19.2   8 400.0 175 3.08 3.845 17.05  0  0    3    2\n",
            "Camaro Z28          13.3   8 350.0 245 3.73 3.840 15.41  0  0    3    4\n",
            "Merc 450SLC         15.2   8 275.8 180 3.07 3.780 18.00  0  0    3    3\n",
            "Merc 450SL          17.3   8 275.8 180 3.07 3.730 17.60  0  0    3    3\n",
            "Duster 360          14.3   8 360.0 245 3.21 3.570 15.84  0  0    3    4\n",
            "Maserati Bora       15.0   8 301.0 335 3.54 3.570 14.60  0  1    5    8\n",
            "Dodge Challenger    15.5   8 318.0 150 2.76 3.520 16.87  0  0    3    2\n",
            "Hornet Sportabout   18.7   8 360.0 175 3.15 3.440 17.02  0  0    3    2\n",
            "AMC Javelin         15.2   8 304.0 150 3.15 3.435 17.30  0  0    3    2\n",
            "Ford Pantera L      15.8   8 351.0 264 4.22 3.170 14.50  0  1    5    4\n"
          ]
        }
      ]
    },
    {
      "cell_type": "markdown",
      "source": [
        "3. Select only the columns mpg and hp."
      ],
      "metadata": {
        "id": "svSznt5Ur7Eb"
      }
    },
    {
      "cell_type": "code",
      "source": [
        "library(dplyr)\n",
        "\n",
        "selected_cols <- select(mtcars, mpg, hp)\n",
        "print(selected_cols)"
      ],
      "metadata": {
        "colab": {
          "base_uri": "https://localhost:8080/"
        },
        "id": "xTg0oSxmrc8u",
        "outputId": "4d4e4897-9126-481a-9b55-e4160fc4693c"
      },
      "execution_count": 4,
      "outputs": [
        {
          "output_type": "stream",
          "name": "stdout",
          "text": [
            "                     mpg  hp\n",
            "Mazda RX4           21.0 110\n",
            "Mazda RX4 Wag       21.0 110\n",
            "Datsun 710          22.8  93\n",
            "Hornet 4 Drive      21.4 110\n",
            "Hornet Sportabout   18.7 175\n",
            "Valiant             18.1 105\n",
            "Duster 360          14.3 245\n",
            "Merc 240D           24.4  62\n",
            "Merc 230            22.8  95\n",
            "Merc 280            19.2 123\n",
            "Merc 280C           17.8 123\n",
            "Merc 450SE          16.4 180\n",
            "Merc 450SL          17.3 180\n",
            "Merc 450SLC         15.2 180\n",
            "Cadillac Fleetwood  10.4 205\n",
            "Lincoln Continental 10.4 215\n",
            "Chrysler Imperial   14.7 230\n",
            "Fiat 128            32.4  66\n",
            "Honda Civic         30.4  52\n",
            "Toyota Corolla      33.9  65\n",
            "Toyota Corona       21.5  97\n",
            "Dodge Challenger    15.5 150\n",
            "AMC Javelin         15.2 150\n",
            "Camaro Z28          13.3 245\n",
            "Pontiac Firebird    19.2 175\n",
            "Fiat X1-9           27.3  66\n",
            "Porsche 914-2       26.0  91\n",
            "Lotus Europa        30.4 113\n",
            "Ford Pantera L      15.8 264\n",
            "Ferrari Dino        19.7 175\n",
            "Maserati Bora       15.0 335\n",
            "Volvo 142E          21.4 109\n"
          ]
        }
      ]
    },
    {
      "cell_type": "markdown",
      "source": [
        "4. Select the distinct values of the gear column."
      ],
      "metadata": {
        "id": "so_M_5DXsTSt"
      }
    },
    {
      "cell_type": "code",
      "source": [
        "distinct_gear <- unique(mtcars$gear)\n",
        "print(distinct_gear)"
      ],
      "metadata": {
        "colab": {
          "base_uri": "https://localhost:8080/"
        },
        "id": "th5sMDyesYDc",
        "outputId": "03293047-cc10-4a7f-b1a2-1392a7a32edf"
      },
      "execution_count": 5,
      "outputs": [
        {
          "output_type": "stream",
          "name": "stdout",
          "text": [
            "[1] 4 3 5\n"
          ]
        }
      ]
    }
  ]
}