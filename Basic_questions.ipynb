{
  "nbformat": 4,
  "nbformat_minor": 0,
  "metadata": {
    "colab": {
      "provenance": [],
      "authorship_tag": "ABX9TyNQBzNO5PUzODPuUB9TuuSy",
      "include_colab_link": true
    },
    "kernelspec": {
      "name": "ir",
      "display_name": "R"
    },
    "language_info": {
      "name": "R"
    }
  },
  "cells": [
    {
      "cell_type": "markdown",
      "metadata": {
        "id": "view-in-github",
        "colab_type": "text"
      },
      "source": [
        "<a href=\"https://colab.research.google.com/github/Jesi1511/R_GUVI_Final_Project/blob/main/Basic_questions.ipynb\" target=\"_parent\"><img src=\"https://colab.research.google.com/assets/colab-badge.svg\" alt=\"Open In Colab\"/></a>"
      ]
    },
    {
      "cell_type": "markdown",
      "source": [
        "1. Create a vector called stock.prices with the following data points: 23,27,23,21,34.\n"
      ],
      "metadata": {
        "id": "wiW3jbhBChVa"
      }
    },
    {
      "cell_type": "code",
      "source": [
        "stock.prices <- c(23,27,23,21,34)\n",
        "stock.prices"
      ],
      "metadata": {
        "colab": {
          "base_uri": "https://localhost:8080/",
          "height": 34
        },
        "id": "LNlqA7OJCjp9",
        "outputId": "93138861-c6e1-4c04-ebae-5ff9b321d991"
      },
      "execution_count": null,
      "outputs": [
        {
          "output_type": "display_data",
          "data": {
            "text/html": [
              "<style>\n",
              ".list-inline {list-style: none; margin:0; padding: 0}\n",
              ".list-inline>li {display: inline-block}\n",
              ".list-inline>li:not(:last-child)::after {content: \"\\00b7\"; padding: 0 .5ex}\n",
              "</style>\n",
              "<ol class=list-inline><li>23</li><li>27</li><li>23</li><li>21</li><li>34</li></ol>\n"
            ],
            "text/markdown": "1. 23\n2. 27\n3. 23\n4. 21\n5. 34\n\n\n",
            "text/latex": "\\begin{enumerate*}\n\\item 23\n\\item 27\n\\item 23\n\\item 21\n\\item 34\n\\end{enumerate*}\n",
            "text/plain": [
              "[1] 23 27 23 21 34"
            ]
          },
          "metadata": {}
        }
      ]
    },
    {
      "cell_type": "markdown",
      "source": [
        "2. Create a numeric vector containing the numbers 1 to 10."
      ],
      "metadata": {
        "id": "dneNML4uFA1K"
      }
    },
    {
      "cell_type": "code",
      "source": [
        "numeric_vector <- 1:10\n",
        "numeric_vector"
      ],
      "metadata": {
        "colab": {
          "base_uri": "https://localhost:8080/",
          "height": 34
        },
        "id": "B5uBYPlQFHJw",
        "outputId": "540e12cb-9ba5-4966-af32-516f40ce37e1"
      },
      "execution_count": null,
      "outputs": [
        {
          "output_type": "display_data",
          "data": {
            "text/html": [
              "<style>\n",
              ".list-inline {list-style: none; margin:0; padding: 0}\n",
              ".list-inline>li {display: inline-block}\n",
              ".list-inline>li:not(:last-child)::after {content: \"\\00b7\"; padding: 0 .5ex}\n",
              "</style>\n",
              "<ol class=list-inline><li>1</li><li>2</li><li>3</li><li>4</li><li>5</li><li>6</li><li>7</li><li>8</li><li>9</li><li>10</li></ol>\n"
            ],
            "text/markdown": "1. 1\n2. 2\n3. 3\n4. 4\n5. 5\n6. 6\n7. 7\n8. 8\n9. 9\n10. 10\n\n\n",
            "text/latex": "\\begin{enumerate*}\n\\item 1\n\\item 2\n\\item 3\n\\item 4\n\\item 5\n\\item 6\n\\item 7\n\\item 8\n\\item 9\n\\item 10\n\\end{enumerate*}\n",
            "text/plain": [
              " [1]  1  2  3  4  5  6  7  8  9 10"
            ]
          },
          "metadata": {}
        }
      ]
    },
    {
      "cell_type": "markdown",
      "source": [
        "3. Calculate the sum of these numbers."
      ],
      "metadata": {
        "id": "2C8HsOSxFqs7"
      }
    },
    {
      "cell_type": "code",
      "source": [
        "sum_numeric <- sum(numeric_vector)\n",
        "sum_numeric"
      ],
      "metadata": {
        "colab": {
          "base_uri": "https://localhost:8080/",
          "height": 34
        },
        "id": "w53dmKMIFvnb",
        "outputId": "74eb6e69-5d25-4ddb-bd8b-ad40cd70718e"
      },
      "execution_count": null,
      "outputs": [
        {
          "output_type": "display_data",
          "data": {
            "text/html": [
              "55"
            ],
            "text/markdown": "55",
            "text/latex": "55",
            "text/plain": [
              "[1] 55"
            ]
          },
          "metadata": {}
        }
      ]
    },
    {
      "cell_type": "markdown",
      "source": [
        "4. Create a logical vector indicating which numbers are even."
      ],
      "metadata": {
        "id": "5Hf5pbXkGg46"
      }
    },
    {
      "cell_type": "code",
      "source": [
        "even_logical <- numeric_vector %% 2 == 0\n",
        "even_logical"
      ],
      "metadata": {
        "colab": {
          "base_uri": "https://localhost:8080/",
          "height": 34
        },
        "id": "fPaZOVViGlFd",
        "outputId": "64d1c1c0-3cfe-4bd0-b4ee-995cec737078"
      },
      "execution_count": null,
      "outputs": [
        {
          "output_type": "display_data",
          "data": {
            "text/html": [
              "<style>\n",
              ".list-inline {list-style: none; margin:0; padding: 0}\n",
              ".list-inline>li {display: inline-block}\n",
              ".list-inline>li:not(:last-child)::after {content: \"\\00b7\"; padding: 0 .5ex}\n",
              "</style>\n",
              "<ol class=list-inline><li>FALSE</li><li>TRUE</li><li>FALSE</li><li>TRUE</li><li>FALSE</li><li>TRUE</li><li>FALSE</li><li>TRUE</li><li>FALSE</li><li>TRUE</li></ol>\n"
            ],
            "text/markdown": "1. FALSE\n2. TRUE\n3. FALSE\n4. TRUE\n5. FALSE\n6. TRUE\n7. FALSE\n8. TRUE\n9. FALSE\n10. TRUE\n\n\n",
            "text/latex": "\\begin{enumerate*}\n\\item FALSE\n\\item TRUE\n\\item FALSE\n\\item TRUE\n\\item FALSE\n\\item TRUE\n\\item FALSE\n\\item TRUE\n\\item FALSE\n\\item TRUE\n\\end{enumerate*}\n",
            "text/plain": [
              " [1] FALSE  TRUE FALSE  TRUE FALSE  TRUE FALSE  TRUE FALSE  TRUE"
            ]
          },
          "metadata": {}
        }
      ]
    },
    {
      "cell_type": "markdown",
      "source": [
        "5. Use the plot() function to create a scatter plot of the mtcars dataset, plotting mpg (miles per gallon) against hp (horsepower)."
      ],
      "metadata": {
        "id": "_f9CDENRHHAK"
      }
    },
    {
      "cell_type": "code",
      "source": [
        "plot(mtcars$hp, mtcars$mpg, xlab=\"Horsepower\", ylab = \"Miles Per Gallon\", main =\"Scatter Plot of MPG vs HP\", col=\"red\")"
      ],
      "metadata": {
        "colab": {
          "base_uri": "https://localhost:8080/",
          "height": 437
        },
        "id": "iyUzfCcnH0ik",
        "outputId": "54539f85-b726-4709-dd83-4e4de60863d8"
      },
      "execution_count": null,
      "outputs": [
        {
          "output_type": "display_data",
          "data": {
            "text/plain": [
              "Plot with title “Scatter Plot of MPG vs HP”"
            ],
            "image/png": "[encoded data removed]"
          },
          "metadata": {
            "image/png": {
              "width": 420,
              "height": 420
            }
          }
        }
      ]
    },
    {
      "cell_type": "markdown",
      "source": [
        "6. Given a vector a = c(\"a\", \"b\", \"c\",\"d\",\"e\"), extract the 2nd and 4th elements.\n"
      ],
      "metadata": {
        "id": "_-OSoFFMOKsS"
      }
    },
    {
      "cell_type": "code",
      "source": [
        "a <-c(\"a\",\"b\",\"c\",\"d\",\"e\")\n",
        "extracted_elements <-a[c(2,4)]\n",
        "extracted_elements"
      ],
      "metadata": {
        "colab": {
          "base_uri": "https://localhost:8080/",
          "height": 34
        },
        "id": "cVVk21GQOP54",
        "outputId": "54d621b7-41dc-46c0-b242-e6c69d04fc60"
      },
      "execution_count": null,
      "outputs": [
        {
          "output_type": "display_data",
          "data": {
            "text/html": [
              "<style>\n",
              ".list-inline {list-style: none; margin:0; padding: 0}\n",
              ".list-inline>li {display: inline-block}\n",
              ".list-inline>li:not(:last-child)::after {content: \"\\00b7\"; padding: 0 .5ex}\n",
              "</style>\n",
              "<ol class=list-inline><li>'b'</li><li>'d'</li></ol>\n"
            ],
            "text/markdown": "1. 'b'\n2. 'd'\n\n\n",
            "text/latex": "\\begin{enumerate*}\n\\item 'b'\n\\item 'd'\n\\end{enumerate*}\n",
            "text/plain": [
              "[1] \"b\" \"d\""
            ]
          },
          "metadata": {}
        }
      ]
    },
    {
      "cell_type": "markdown",
      "source": [
        "7. From the mtcars dataset, select the rows where cyl (cylinders) is 4 and only the columns mpg, hp, and wt."
      ],
      "metadata": {
        "id": "kWsgWMvpPo4Q"
      }
    },
    {
      "cell_type": "code",
      "source": [
        "selected_rows <- mtcars[mtcars$cyl ==4, c(\"mpg\",\"hp\",\"wt\")]\n",
        "selected_rows"
      ],
      "metadata": {
        "colab": {
          "base_uri": "https://localhost:8080/",
          "height": 443
        },
        "id": "jO-QdmA_Pu5-",
        "outputId": "8fde25e7-a1e2-419c-cd6b-a41d365d689a"
      },
      "execution_count": null,
      "outputs": [
        {
          "output_type": "display_data",
          "data": {
            "text/html": [
              "<table class=\"dataframe\">\n",
              "<caption>A data.frame: 11 × 3</caption>\n",
              "<thead>\n",
              "\t<tr><th></th><th scope=col>mpg</th><th scope=col>hp</th><th scope=col>wt</th></tr>\n",
              "\t<tr><th></th><th scope=col>&lt;dbl&gt;</th><th scope=col>&lt;dbl&gt;</th><th scope=col>&lt;dbl&gt;</th></tr>\n",
              "</thead>\n",
              "<tbody>\n",
              "\t<tr><th scope=row>Datsun 710</th><td>22.8</td><td> 93</td><td>2.320</td></tr>\n",
              "\t<tr><th scope=row>Merc 240D</th><td>24.4</td><td> 62</td><td>3.190</td></tr>\n",
              "\t<tr><th scope=row>Merc 230</th><td>22.8</td><td> 95</td><td>3.150</td></tr>\n",
              "\t<tr><th scope=row>Fiat 128</th><td>32.4</td><td> 66</td><td>2.200</td></tr>\n",
              "\t<tr><th scope=row>Honda Civic</th><td>30.4</td><td> 52</td><td>1.615</td></tr>\n",
              "\t<tr><th scope=row>Toyota Corolla</th><td>33.9</td><td> 65</td><td>1.835</td></tr>\n",
              "\t<tr><th scope=row>Toyota Corona</th><td>21.5</td><td> 97</td><td>2.465</td></tr>\n",
              "\t<tr><th scope=row>Fiat X1-9</th><td>27.3</td><td> 66</td><td>1.935</td></tr>\n",
              "\t<tr><th scope=row>Porsche 914-2</th><td>26.0</td><td> 91</td><td>2.140</td></tr>\n",
              "\t<tr><th scope=row>Lotus Europa</th><td>30.4</td><td>113</td><td>1.513</td></tr>\n",
              "\t<tr><th scope=row>Volvo 142E</th><td>21.4</td><td>109</td><td>2.780</td></tr>\n",
              "</tbody>\n",
              "</table>\n"
            ],
            "text/markdown": "\nA data.frame: 11 × 3\n\n| <!--/--> | mpg &lt;dbl&gt; | hp &lt;dbl&gt; | wt &lt;dbl&gt; |\n|---|---|---|---|\n| Datsun 710 | 22.8 |  93 | 2.320 |\n| Merc 240D | 24.4 |  62 | 3.190 |\n| Merc 230 | 22.8 |  95 | 3.150 |\n| Fiat 128 | 32.4 |  66 | 2.200 |\n| Honda Civic | 30.4 |  52 | 1.615 |\n| Toyota Corolla | 33.9 |  65 | 1.835 |\n| Toyota Corona | 21.5 |  97 | 2.465 |\n| Fiat X1-9 | 27.3 |  66 | 1.935 |\n| Porsche 914-2 | 26.0 |  91 | 2.140 |\n| Lotus Europa | 30.4 | 113 | 1.513 |\n| Volvo 142E | 21.4 | 109 | 2.780 |\n\n",
            "text/latex": "A data.frame: 11 × 3\n\\begin{tabular}{r|lll}\n  & mpg & hp & wt\\\\\n  & <dbl> & <dbl> & <dbl>\\\\\n\\hline\n\tDatsun 710 & 22.8 &  93 & 2.320\\\\\n\tMerc 240D & 24.4 &  62 & 3.190\\\\\n\tMerc 230 & 22.8 &  95 & 3.150\\\\\n\tFiat 128 & 32.4 &  66 & 2.200\\\\\n\tHonda Civic & 30.4 &  52 & 1.615\\\\\n\tToyota Corolla & 33.9 &  65 & 1.835\\\\\n\tToyota Corona & 21.5 &  97 & 2.465\\\\\n\tFiat X1-9 & 27.3 &  66 & 1.935\\\\\n\tPorsche 914-2 & 26.0 &  91 & 2.140\\\\\n\tLotus Europa & 30.4 & 113 & 1.513\\\\\n\tVolvo 142E & 21.4 & 109 & 2.780\\\\\n\\end{tabular}\n",
            "text/plain": [
              "               mpg  hp  wt   \n",
              "Datsun 710     22.8  93 2.320\n",
              "Merc 240D      24.4  62 3.190\n",
              "Merc 230       22.8  95 3.150\n",
              "Fiat 128       32.4  66 2.200\n",
              "Honda Civic    30.4  52 1.615\n",
              "Toyota Corolla 33.9  65 1.835\n",
              "Toyota Corona  21.5  97 2.465\n",
              "Fiat X1-9      27.3  66 1.935\n",
              "Porsche 914-2  26.0  91 2.140\n",
              "Lotus Europa   30.4 113 1.513\n",
              "Volvo 142E     21.4 109 2.780"
            ]
          },
          "metadata": {}
        }
      ]
    },
    {
      "cell_type": "markdown",
      "source": [
        "8. Create a list my_list that contains three elements: a numeric vector (1, 2, 3), a character vector (“a”, “b”, “c”), and a matrix with 2 rows and 2 columns."
      ],
      "metadata": {
        "id": "sJ7OB6xnQzNJ"
      }
    },
    {
      "cell_type": "code",
      "source": [
        "numeric_vector <- c(1,2,3)\n",
        "character_vector <- c(\"a\",\"b\",\"c\")\n",
        "matrix_2x2 <- matrix(1:4, nrow = 2)\n",
        "my_list <- list(numeric_vector, character_vector, matrix_2x2)\n",
        "my_list"
      ],
      "metadata": {
        "colab": {
          "base_uri": "https://localhost:8080/",
          "height": 229
        },
        "id": "7T6epPBiQaSN",
        "outputId": "d514870c-6ed1-4aae-d819-90351d44ad02"
      },
      "execution_count": null,
      "outputs": [
        {
          "output_type": "display_data",
          "data": {
            "text/html": [
              "<ol>\n",
              "\t<li><style>\n",
              ".list-inline {list-style: none; margin:0; padding: 0}\n",
              ".list-inline>li {display: inline-block}\n",
              ".list-inline>li:not(:last-child)::after {content: \"\\00b7\"; padding: 0 .5ex}\n",
              "</style>\n",
              "<ol class=list-inline><li>1</li><li>2</li><li>3</li></ol>\n",
              "</li>\n",
              "\t<li><style>\n",
              ".list-inline {list-style: none; margin:0; padding: 0}\n",
              ".list-inline>li {display: inline-block}\n",
              ".list-inline>li:not(:last-child)::after {content: \"\\00b7\"; padding: 0 .5ex}\n",
              "</style>\n",
              "<ol class=list-inline><li>'a'</li><li>'b'</li><li>'c'</li></ol>\n",
              "</li>\n",
              "\t<li><table class=\"dataframe\">\n",
              "<caption>A matrix: 2 × 2 of type int</caption>\n",
              "<tbody>\n",
              "\t<tr><td>1</td><td>3</td></tr>\n",
              "\t<tr><td>2</td><td>4</td></tr>\n",
              "</tbody>\n",
              "</table>\n",
              "</li>\n",
              "</ol>\n"
            ],
            "text/markdown": "1. 1. 1\n2. 2\n3. 3\n\n\n\n2. 1. 'a'\n2. 'b'\n3. 'c'\n\n\n\n3. \nA matrix: 2 × 2 of type int\n\n| 1 | 3 |\n| 2 | 4 |\n\n\n\n\n",
            "text/latex": "\\begin{enumerate}\n\\item \\begin{enumerate*}\n\\item 1\n\\item 2\n\\item 3\n\\end{enumerate*}\n\n\\item \\begin{enumerate*}\n\\item 'a'\n\\item 'b'\n\\item 'c'\n\\end{enumerate*}\n\n\\item A matrix: 2 × 2 of type int\n\\begin{tabular}{ll}\n\t 1 & 3\\\\\n\t 2 & 4\\\\\n\\end{tabular}\n\n\\end{enumerate}\n",
            "text/plain": [
              "[[1]]\n",
              "[1] 1 2 3\n",
              "\n",
              "[[2]]\n",
              "[1] \"a\" \"b\" \"c\"\n",
              "\n",
              "[[3]]\n",
              "     [,1] [,2]\n",
              "[1,]    1    3\n",
              "[2,]    2    4\n"
            ]
          },
          "metadata": {}
        }
      ]
    },
    {
      "cell_type": "markdown",
      "source": [
        "9. Add a new element to my_list that is a logical vector (TRUE, FALSE)."
      ],
      "metadata": {
        "id": "RGGlMnZ4SQb1"
      }
    },
    {
      "cell_type": "code",
      "source": [
        "logical_vector <- c(TRUE, FALSE)\n",
        "my_list <- c(my_list, list(logical_vector))\n",
        "my_list"
      ],
      "metadata": {
        "colab": {
          "base_uri": "https://localhost:8080/",
          "height": 247
        },
        "id": "e22LEz40SWHn",
        "outputId": "0e574670-2a85-45af-a78e-099cb4c9dcba"
      },
      "execution_count": null,
      "outputs": [
        {
          "output_type": "display_data",
          "data": {
            "text/html": [
              "<ol>\n",
              "\t<li><style>\n",
              ".list-inline {list-style: none; margin:0; padding: 0}\n",
              ".list-inline>li {display: inline-block}\n",
              ".list-inline>li:not(:last-child)::after {content: \"\\00b7\"; padding: 0 .5ex}\n",
              "</style>\n",
              "<ol class=list-inline><li>1</li><li>2</li><li>3</li></ol>\n",
              "</li>\n",
              "\t<li><style>\n",
              ".list-inline {list-style: none; margin:0; padding: 0}\n",
              ".list-inline>li {display: inline-block}\n",
              ".list-inline>li:not(:last-child)::after {content: \"\\00b7\"; padding: 0 .5ex}\n",
              "</style>\n",
              "<ol class=list-inline><li>'a'</li><li>'b'</li><li>'c'</li></ol>\n",
              "</li>\n",
              "\t<li><table class=\"dataframe\">\n",
              "<caption>A matrix: 2 × 2 of type int</caption>\n",
              "<tbody>\n",
              "\t<tr><td>1</td><td>3</td></tr>\n",
              "\t<tr><td>2</td><td>4</td></tr>\n",
              "</tbody>\n",
              "</table>\n",
              "</li>\n",
              "\t<li><style>\n",
              ".list-inline {list-style: none; margin:0; padding: 0}\n",
              ".list-inline>li {display: inline-block}\n",
              ".list-inline>li:not(:last-child)::after {content: \"\\00b7\"; padding: 0 .5ex}\n",
              "</style>\n",
              "<ol class=list-inline><li>TRUE</li><li>FALSE</li></ol>\n",
              "</li>\n",
              "</ol>\n"
            ],
            "text/markdown": "1. 1. 1\n2. 2\n3. 3\n\n\n\n2. 1. 'a'\n2. 'b'\n3. 'c'\n\n\n\n3. \nA matrix: 2 × 2 of type int\n\n| 1 | 3 |\n| 2 | 4 |\n\n\n4. 1. TRUE\n2. FALSE\n\n\n\n\n\n",
            "text/latex": "\\begin{enumerate}\n\\item \\begin{enumerate*}\n\\item 1\n\\item 2\n\\item 3\n\\end{enumerate*}\n\n\\item \\begin{enumerate*}\n\\item 'a'\n\\item 'b'\n\\item 'c'\n\\end{enumerate*}\n\n\\item A matrix: 2 × 2 of type int\n\\begin{tabular}{ll}\n\t 1 & 3\\\\\n\t 2 & 4\\\\\n\\end{tabular}\n\n\\item \\begin{enumerate*}\n\\item TRUE\n\\item FALSE\n\\end{enumerate*}\n\n\\end{enumerate}\n",
            "text/plain": [
              "[[1]]\n",
              "[1] 1 2 3\n",
              "\n",
              "[[2]]\n",
              "[1] \"a\" \"b\" \"c\"\n",
              "\n",
              "[[3]]\n",
              "     [,1] [,2]\n",
              "[1,]    1    3\n",
              "[2,]    2    4\n",
              "\n",
              "[[4]]\n",
              "[1]  TRUE FALSE\n"
            ]
          },
          "metadata": {}
        }
      ]
    },
    {
      "cell_type": "markdown",
      "source": [
        "10. Create character vector words with the elements “R”, “is”, “fun”"
      ],
      "metadata": {
        "id": "ozjajnD4TKFe"
      }
    },
    {
      "cell_type": "code",
      "source": [
        "words <- c(\"R\", \"is\", \"fun\")\n",
        "words"
      ],
      "metadata": {
        "colab": {
          "base_uri": "https://localhost:8080/",
          "height": 34
        },
        "id": "vVKnNOovTPHQ",
        "outputId": "494dfcc9-f358-4016-8e01-217ad056531d"
      },
      "execution_count": null,
      "outputs": [
        {
          "output_type": "display_data",
          "data": {
            "text/html": [
              "<style>\n",
              ".list-inline {list-style: none; margin:0; padding: 0}\n",
              ".list-inline>li {display: inline-block}\n",
              ".list-inline>li:not(:last-child)::after {content: \"\\00b7\"; padding: 0 .5ex}\n",
              "</style>\n",
              "<ol class=list-inline><li>'R'</li><li>'is'</li><li>'fun'</li></ol>\n"
            ],
            "text/markdown": "1. 'R'\n2. 'is'\n3. 'fun'\n\n\n",
            "text/latex": "\\begin{enumerate*}\n\\item 'R'\n\\item 'is'\n\\item 'fun'\n\\end{enumerate*}\n",
            "text/plain": [
              "[1] \"R\"   \"is\"  \"fun\""
            ]
          },
          "metadata": {}
        }
      ]
    },
    {
      "cell_type": "markdown",
      "source": [
        "11. Use a function to concatenate these words into a single string: “R is fun”."
      ],
      "metadata": {
        "id": "4hiTgNNRToki"
      }
    },
    {
      "cell_type": "code",
      "source": [
        "concatenated_string <- paste(words, collapse = \" \")\n",
        "concatenated_string"
      ],
      "metadata": {
        "colab": {
          "base_uri": "https://localhost:8080/",
          "height": 34
        },
        "id": "ahCuWg4lTqot",
        "outputId": "10f99e21-5a9a-434d-e0c6-0a4973dc1c76"
      },
      "execution_count": null,
      "outputs": [
        {
          "output_type": "display_data",
          "data": {
            "text/html": [
              "'R is fun'"
            ],
            "text/markdown": "'R is fun'",
            "text/latex": "'R is fun'",
            "text/plain": [
              "[1] \"R is fun\""
            ]
          },
          "metadata": {}
        }
      ]
    },
    {
      "cell_type": "markdown",
      "source": [
        "12. Replace “fun” with “awesome” in the concatenated string."
      ],
      "metadata": {
        "id": "8tO3szPYT_ZN"
      }
    },
    {
      "cell_type": "code",
      "source": [
        "replaced_string <- gsub(\"fun\", \"awesome\", concatenated_string)\n",
        "replaced_string"
      ],
      "metadata": {
        "colab": {
          "base_uri": "https://localhost:8080/",
          "height": 34
        },
        "id": "snRRxIeDUBad",
        "outputId": "1ef17d3c-f34a-4a07-b87e-ec976caf0a95"
      },
      "execution_count": null,
      "outputs": [
        {
          "output_type": "display_data",
          "data": {
            "text/html": [
              "'R is awesome'"
            ],
            "text/markdown": "'R is awesome'",
            "text/latex": "'R is awesome'",
            "text/plain": [
              "[1] \"R is awesome\""
            ]
          },
          "metadata": {}
        }
      ]
    },
    {
      "cell_type": "markdown",
      "source": [
        "13. From a numeric vector to a character vector: v_num = c(1, 2, 3)"
      ],
      "metadata": {
        "id": "D73NqB5WUTxW"
      }
    },
    {
      "cell_type": "code",
      "source": [
        "v_num <- c(1,2,3)\n",
        "v_char <- as.character(v_num)\n",
        "v_char"
      ],
      "metadata": {
        "colab": {
          "base_uri": "https://localhost:8080/",
          "height": 34
        },
        "id": "sGWXp82qUXFI",
        "outputId": "eed7a083-6595-47e2-8e0d-cf8c99c23db3"
      },
      "execution_count": null,
      "outputs": [
        {
          "output_type": "display_data",
          "data": {
            "text/html": [
              "<style>\n",
              ".list-inline {list-style: none; margin:0; padding: 0}\n",
              ".list-inline>li {display: inline-block}\n",
              ".list-inline>li:not(:last-child)::after {content: \"\\00b7\"; padding: 0 .5ex}\n",
              "</style>\n",
              "<ol class=list-inline><li>'1'</li><li>'2'</li><li>'3'</li></ol>\n"
            ],
            "text/markdown": "1. '1'\n2. '2'\n3. '3'\n\n\n",
            "text/latex": "\\begin{enumerate*}\n\\item '1'\n\\item '2'\n\\item '3'\n\\end{enumerate*}\n",
            "text/plain": [
              "[1] \"1\" \"2\" \"3\""
            ]
          },
          "metadata": {}
        }
      ]
    },
    {
      "cell_type": "markdown",
      "source": [
        "14. From a character vector to a factor: v_char = c(\"low\", \"medium\", \"high\")"
      ],
      "metadata": {
        "id": "wKO6vpMxUtQ_"
      }
    },
    {
      "cell_type": "code",
      "source": [
        "v_char <- c(\"low\", \"medium\", \"high\")\n",
        "v_factor <- factor(v_char)\n",
        "v_char"
      ],
      "metadata": {
        "colab": {
          "base_uri": "https://localhost:8080/",
          "height": 34
        },
        "id": "NU0kVAP5Uu-u",
        "outputId": "489f4933-db12-4a34-a232-b8634cc9ec37"
      },
      "execution_count": null,
      "outputs": [
        {
          "output_type": "display_data",
          "data": {
            "text/html": [
              "<style>\n",
              ".list-inline {list-style: none; margin:0; padding: 0}\n",
              ".list-inline>li {display: inline-block}\n",
              ".list-inline>li:not(:last-child)::after {content: \"\\00b7\"; padding: 0 .5ex}\n",
              "</style>\n",
              "<ol class=list-inline><li>'low'</li><li>'medium'</li><li>'high'</li></ol>\n"
            ],
            "text/markdown": "1. 'low'\n2. 'medium'\n3. 'high'\n\n\n",
            "text/latex": "\\begin{enumerate*}\n\\item 'low'\n\\item 'medium'\n\\item 'high'\n\\end{enumerate*}\n",
            "text/plain": [
              "[1] \"low\"    \"medium\" \"high\"  "
            ]
          },
          "metadata": {}
        }
      ]
    },
    {
      "cell_type": "markdown",
      "source": [
        "15. From a factor to a numeric vector, considering the factor levels as numeric values: f = factor(c(1, 2, 3))."
      ],
      "metadata": {
        "id": "SIh--FqHVD8h"
      }
    },
    {
      "cell_type": "code",
      "source": [
        "f <- factor(c(1,2,3))\n",
        "numeric_vector <- as.numeric(as.character(f))\n",
        "numeric_vector"
      ],
      "metadata": {
        "colab": {
          "base_uri": "https://localhost:8080/",
          "height": 34
        },
        "id": "NNkNeOg_VFeL",
        "outputId": "02432f49-a3bf-461d-cb61-acfae554b2d1"
      },
      "execution_count": null,
      "outputs": [
        {
          "output_type": "display_data",
          "data": {
            "text/html": [
              "<style>\n",
              ".list-inline {list-style: none; margin:0; padding: 0}\n",
              ".list-inline>li {display: inline-block}\n",
              ".list-inline>li:not(:last-child)::after {content: \"\\00b7\"; padding: 0 .5ex}\n",
              "</style>\n",
              "<ol class=list-inline><li>1</li><li>2</li><li>3</li></ol>\n"
            ],
            "text/markdown": "1. 1\n2. 2\n3. 3\n\n\n",
            "text/latex": "\\begin{enumerate*}\n\\item 1\n\\item 2\n\\item 3\n\\end{enumerate*}\n",
            "text/plain": [
              "[1] 1 2 3"
            ]
          },
          "metadata": {}
        }
      ]
    },
    {
      "cell_type": "markdown",
      "source": [
        "16. colors = c(“red”, “blue”, “green”, “blue”, “red”, “green”, “green”, “red”)\n",
        "Convert colors into a factor, f_colors.\n",
        "Print the levels of f_colors.\n",
        "How would you reorder the levels of f_colors so that “green” comes first?"
      ],
      "metadata": {
        "id": "7pQu3S9KVa-4"
      }
    },
    {
      "cell_type": "code",
      "source": [
        "colors <- c(\"red\",\"blue\",\"green\",\"blue\",\"red\",\"green\",\"green\",\"red\")\n",
        "f_colors <- factor(colors)\n",
        "print(levels(f_colors))\n",
        "f_colors <- relevel(f_colors, \"green\")\n",
        "f_colors"
      ],
      "metadata": {
        "colab": {
          "base_uri": "https://localhost:8080/",
          "height": 86
        },
        "id": "Xf5_NK8xVd0J",
        "outputId": "515f97a6-0d10-4293-c1d9-d54b3e2edabe"
      },
      "execution_count": null,
      "outputs": [
        {
          "output_type": "stream",
          "name": "stdout",
          "text": [
            "[1] \"blue\"  \"green\" \"red\"  \n"
          ]
        },
        {
          "output_type": "display_data",
          "data": {
            "text/html": [
              "<style>\n",
              ".list-inline {list-style: none; margin:0; padding: 0}\n",
              ".list-inline>li {display: inline-block}\n",
              ".list-inline>li:not(:last-child)::after {content: \"\\00b7\"; padding: 0 .5ex}\n",
              "</style>\n",
              "<ol class=list-inline><li>red</li><li>blue</li><li>green</li><li>blue</li><li>red</li><li>green</li><li>green</li><li>red</li></ol>\n",
              "\n",
              "<details>\n",
              "\t<summary style=display:list-item;cursor:pointer>\n",
              "\t\t<strong>Levels</strong>:\n",
              "\t</summary>\n",
              "\t<style>\n",
              "\t.list-inline {list-style: none; margin:0; padding: 0}\n",
              "\t.list-inline>li {display: inline-block}\n",
              "\t.list-inline>li:not(:last-child)::after {content: \"\\00b7\"; padding: 0 .5ex}\n",
              "\t</style>\n",
              "\t<ol class=list-inline><li>'green'</li><li>'blue'</li><li>'red'</li></ol>\n",
              "</details>"
            ],
            "text/markdown": "1. red\n2. blue\n3. green\n4. blue\n5. red\n6. green\n7. green\n8. red\n\n\n\n**Levels**: 1. 'green'\n2. 'blue'\n3. 'red'\n\n\n",
            "text/latex": "\\begin{enumerate*}\n\\item red\n\\item blue\n\\item green\n\\item blue\n\\item red\n\\item green\n\\item green\n\\item red\n\\end{enumerate*}\n\n\\emph{Levels}: \\begin{enumerate*}\n\\item 'green'\n\\item 'blue'\n\\item 'red'\n\\end{enumerate*}\n",
            "text/plain": [
              "[1] red   blue  green blue  red   green green red  \n",
              "Levels: green blue red"
            ]
          },
          "metadata": {}
        }
      ]
    },
    {
      "cell_type": "markdown",
      "source": [
        "17. my_list <- list(name = “Alice”, age = 30, hobbies = c(“Cycling”, “Art”, “Music”)) my_df <- data.frame(Name = c(“Alice”, “Bob”), Age = c(25, 30))\n",
        "Access and print the hobbies element from my_list.\n",
        "Add a new column Occupation to my_df with values “Doctor” for Alice and “Engineer” for Bob."
      ],
      "metadata": {
        "id": "BLx27G8HWYRR"
      }
    },
    {
      "cell_type": "code",
      "source": [
        "# Create list my_list with name, age, and hobbies elements\n",
        "my_list <- list(name = \"Alice\", age = 30, hobbies = c(\"Cycling\", \"Art\", \"Music\"))\n",
        "\n",
        "# Access and print the hobbies element from my_list\n",
        "print(my_list$hobbies)\n",
        "\n",
        "# Add new column Occupation to my_df\n",
        "my_df <- data.frame(Name = c(\"Alice\", \"Bob\"), Age = c(25, 30))\n",
        "\n",
        "my_df$Occupation <- ifelse(my_df$Name == \"Alice\", \"Doctor\", \"Engineer\")\n",
        "my_df$Occupation"
      ],
      "metadata": {
        "colab": {
          "base_uri": "https://localhost:8080/",
          "height": 52
        },
        "id": "YIqKmMeUWaU_",
        "outputId": "63bf123f-e3cd-40ce-ac88-e026f3afce74"
      },
      "execution_count": null,
      "outputs": [
        {
          "output_type": "stream",
          "name": "stdout",
          "text": [
            "[1] \"Cycling\" \"Art\"     \"Music\"  \n"
          ]
        },
        {
          "output_type": "display_data",
          "data": {
            "text/html": [
              "<style>\n",
              ".list-inline {list-style: none; margin:0; padding: 0}\n",
              ".list-inline>li {display: inline-block}\n",
              ".list-inline>li:not(:last-child)::after {content: \"\\00b7\"; padding: 0 .5ex}\n",
              "</style>\n",
              "<ol class=list-inline><li>'Doctor'</li><li>'Engineer'</li></ol>\n"
            ],
            "text/markdown": "1. 'Doctor'\n2. 'Engineer'\n\n\n",
            "text/latex": "\\begin{enumerate*}\n\\item 'Doctor'\n\\item 'Engineer'\n\\end{enumerate*}\n",
            "text/plain": [
              "[1] \"Doctor\"   \"Engineer\""
            ]
          },
          "metadata": {}
        }
      ]
    }
  ]
}